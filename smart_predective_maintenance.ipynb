{
  "nbformat": 4,
  "nbformat_minor": 0,
  "metadata": {
    "colab": {
      "provenance": [],
      "authorship_tag": "ABX9TyNY/MYxV2howBCyOXl0u8y2",
      "include_colab_link": true
    },
    "kernelspec": {
      "name": "python3",
      "display_name": "Python 3"
    },
    "language_info": {
      "name": "python"
    }
  },
  "cells": [
    {
      "cell_type": "markdown",
      "metadata": {
        "id": "view-in-github",
        "colab_type": "text"
      },
      "source": [
        "<a href=\"https://colab.research.google.com/github/H-arsha/smart_predective_maintenancee/blob/main/smart_predective_maintenance.ipynb\" target=\"_parent\"><img src=\"https://colab.research.google.com/assets/colab-badge.svg\" alt=\"Open In Colab\"/></a>"
      ]
    },
    {
      "cell_type": "code",
      "execution_count": null,
      "metadata": {
        "id": "LfQjtKsJJF_P",
        "colab": {
          "base_uri": "https://localhost:8080/"
        },
        "outputId": "140e5f83-b712-420a-c433-69721bfad412"
      },
      "outputs": [
        {
          "output_type": "stream",
          "name": "stdout",
          "text": [
            "Current working directory: /content\n",
            "total 24\n",
            "drwxr-xr-x 2 root root 4096 Aug  3 03:46 app\n",
            "drwxr-xr-x 2 root root 4096 Aug  3 03:46 data\n",
            "drwx------ 5 root root 4096 Aug  3 03:45 drive\n",
            "drwxr-xr-x 2 root root 4096 Aug  3 03:46 notebook\n",
            "drwxr-xr-x 1 root root 4096 Jul 29 13:36 sample_data\n",
            "drwxr-xr-x 2 root root 4096 Aug  3 03:46 src\n"
          ]
        }
      ],
      "source": [
        "import os\n",
        "folders = ['data','notebook','src','app']\n",
        "for folder in folders:\n",
        "     os.makedirs(folder,exist_ok=True)\n",
        "\n",
        "     import os\n",
        "print(\"Current working directory:\", os.getcwd())\n",
        "!ls -l /content\n",
        "\n",
        "\n"
      ]
    },
    {
      "cell_type": "code",
      "source": [
        "from google.colab import drive\n",
        "drive.mount('/content/drive')"
      ],
      "metadata": {
        "colab": {
          "base_uri": "https://localhost:8080/"
        },
        "id": "z2wRvBfrCIPW",
        "outputId": "67f1aac9-58dd-4d74-f711-695731447b74"
      },
      "execution_count": null,
      "outputs": [
        {
          "output_type": "stream",
          "name": "stdout",
          "text": [
            "Mounted at /content/drive\n"
          ]
        }
      ]
    }
  ]
}